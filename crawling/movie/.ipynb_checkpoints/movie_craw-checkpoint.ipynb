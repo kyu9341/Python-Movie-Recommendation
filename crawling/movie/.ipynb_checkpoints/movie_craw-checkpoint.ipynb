{
 "cells": [
  {
   "cell_type": "code",
   "execution_count": 1,
   "metadata": {},
   "outputs": [],
   "source": [
    "import os\n",
    "import re\n",
    "from urllib.request import urlopen\n",
    "from urllib.request import urlretrieve\n",
    "from urllib.parse import quote\n",
    "from urllib.error import HTTPError\n",
    "from bs4 import BeautifulSoup\n",
    "from operator import eq"
   ]
  },
  {
   "cell_type": "code",
   "execution_count": 2,
   "metadata": {},
   "outputs": [],
   "source": [
    "def getBs(url):\n",
    "    try:\n",
    "        html = urlopen(url)\n",
    "    except HTTPError as e:\n",
    "        return None\n",
    "    try:\n",
    "        bs = BeautifulSoup(html, 'html.parser')\n",
    "    except AttributeError as e:\n",
    "        return None\n",
    "    return bs"
   ]
  },
  {
   "cell_type": "code",
   "execution_count": 3,
   "metadata": {},
   "outputs": [],
   "source": [
    "main_url = ('https://movie.naver.com/movie/sdb/browsing/')\n",
    "bs = getBs('https://movie.naver.com/movie/sdb/browsing/bmovie_nation.nhn') #\n",
    "# https://movie.naver.com/movie/sdb/browsing/bmovie_nation.nhn 제작 국가\n",
    "# https://movie.naver.com/movie/sdb/browsing/bmovie_year.nhn 제작 년도\n",
    "# https://movie.naver.com/movie/sdb/browsing/bmovie_open.nhn 개봉 년도\n",
    "# https://movie.naver.com/movie/sdb/browsing/bmovie_genre.nhn 장르\n",
    "# https://movie.naver.com/movie/sdb/browsing/bmovie_form.nhn 형식\n",
    "# https://movie.naver.com/movie/sdb/browsing/bmovie_grade.nhn 등급"
   ]
  },
  {
   "cell_type": "code",
   "execution_count": 4,
   "metadata": {},
   "outputs": [],
   "source": [
    "def get_category(bs,main_url):\n",
    "    #data = bs.table.findAll('a')\n",
    "    data = bs.findAll('a',{'href':re.compile('bmovie.nhn*')})\n",
    "    category = {}\n",
    "    for item in data:\n",
    "        name = item.get_text() # 카테고리 내용\n",
    "        name = name.replace(' ','') # 공백 제거\n",
    "        #print(name,end='')\n",
    "        url = main_url+item.attrs['href'] # 카테고리 주소 \n",
    "        #print(' : ',url)\n",
    "        category[name]=url \n",
    "        \n",
    "    return category\n",
    "        "
   ]
  },
  {
   "cell_type": "code",
   "execution_count": 6,
   "metadata": {},
   "outputs": [],
   "source": [
    "def get_movie(url):\n",
    "    main_url = 'https://movie.naver.com'\n",
    "    page = '&page=' # 페이지 설정\n",
    "    page_num = 1\n",
    "    movie ={}\n",
    "    while True:\n",
    "        bs = getBs(url+page+str(page_num))\n",
    "        \n",
    "            \n",
    "            \n",
    "        movies = bs.find('ul',{'class':'directory_list'}).findAll('li') # 영화 리스트 담긴 테그 추출\n",
    "        \n",
    "        for item in movies:\n",
    "            m = item.find('a',{'href':re.compile('/movie*')}) # 쓸대 없는 테그 제거\n",
    "            if m is None: # 원하는 정보가 없는 테그\n",
    "                pass\n",
    "            else:\n",
    "                #print(m)\n",
    "                movie[m.get_text()] = main_url+m.attrs['href']\n",
    "        \n",
    "        if bs.find('td',{'class':'next'}) is None: # 다음 페이지 유무 체크\n",
    "            break\n",
    "        page_num+=1\n",
    "    \n",
    "    \n",
    "    return movie\n",
    "    \n",
    "    \n",
    "    "
   ]
  },
  {
   "cell_type": "code",
   "execution_count": 8,
   "metadata": {},
   "outputs": [],
   "source": [
    "def get_rev(url,limit):\n",
    "    code = url[url.find('code='):]\n",
    "    sub_url_front= 'https://movie.naver.com/movie/bi/mi/pointWriteFormList.nhn?'\n",
    "    sub_url_back = '&type=after&isActualPointWriteExecute=false&isMileageSubscriptionAlready=false&isMileageSubscriptionReject=false&page='\n",
    "    page = 1\n",
    "    target = sub_url_front+code+sub_url_back+str(page)\n",
    "    bs = getBs(target)\n",
    "    count = 0\n",
    "    \n",
    "    rev = list()\n",
    "    while True:\n",
    "\n",
    "        review_data = bs.findAll('span',{'id':re.compile('_filtered_ment_*')})\n",
    "    \n",
    "    \n",
    "        for i in review_data:\n",
    "            print(i.get_text().strip())\n",
    "            rev.append(i.get_text().strip())\n",
    "        \n",
    "        count+=1\n",
    "        page +=1\n",
    "        target = sub_url_front+code+sub_url_back+str(page)\n",
    "        bs = getBs(target)\n",
    "        \n",
    "        if bs.find('a',{'title':'다음'}) is None:\n",
    "            print('no data')\n",
    "            break\n",
    "        elif count >= limit:\n",
    "            print('limit')\n",
    "            break\n",
    "    \n",
    "    return rev\n",
    "    "
   ]
  },
  {
   "cell_type": "code",
   "execution_count": 10,
   "metadata": {},
   "outputs": [],
   "source": [
    "def get_infofile(text,filename):\n",
    "\n",
    "    path = 'downdown/'\n",
    "    f = open(filename+'.txt','w',-1, \"utf-8\")\n",
    "    \n",
    "    f.write(text)\n",
    "    f.close()"
   ]
  },
  {
   "cell_type": "code",
   "execution_count": null,
   "metadata": {},
   "outputs": [],
   "source": [
    "def movie_craw(url):\n",
    "    main_url = ('https://movie.naver.com/movie/sdb/browsing/')\n",
    "    \n",
    "    bs = getBs(url)\n",
    "    category = get_category(bs,)"
   ]
  }
 ],
 "metadata": {
  "kernelspec": {
   "display_name": "Python 3",
   "language": "python",
   "name": "python3"
  },
  "language_info": {
   "codemirror_mode": {
    "name": "ipython",
    "version": 3
   },
   "file_extension": ".py",
   "mimetype": "text/x-python",
   "name": "python",
   "nbconvert_exporter": "python",
   "pygments_lexer": "ipython3",
   "version": "3.7.1"
  }
 },
 "nbformat": 4,
 "nbformat_minor": 2
}
